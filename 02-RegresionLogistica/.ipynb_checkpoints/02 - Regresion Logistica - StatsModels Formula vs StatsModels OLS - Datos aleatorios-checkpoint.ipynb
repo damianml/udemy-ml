{
 "cells": [
  {
   "cell_type": "code",
   "execution_count": 17,
   "metadata": {},
   "outputs": [],
   "source": [
    "import statsmodels.api as sm\n",
    "import numpy as np\n",
    "import pandas as pd"
   ]
  },
  {
   "cell_type": "markdown",
   "metadata": {},
   "source": [
    "### creo las features para alimentar el modelo:"
   ]
  },
  {
   "cell_type": "code",
   "execution_count": 18,
   "metadata": {},
   "outputs": [],
   "source": [
    "n = 10\n",
    "x1 = np.array(range(n)).reshape(n, 1)\n",
    "y = [0,0,0,1,0,1,0,1,0,1]"
   ]
  },
  {
   "cell_type": "code",
   "execution_count": 19,
   "metadata": {},
   "outputs": [
    {
     "name": "stdout",
     "output_type": "stream",
     "text": [
      "Optimization terminated successfully.\n",
      "         Current function value: 0.576190\n",
      "         Iterations 5\n"
     ]
    }
   ],
   "source": [
    "x = sm.add_constant(x1)\n",
    "logit_model = sm.Logit(y, x).fit()"
   ]
  },
  {
   "cell_type": "markdown",
   "metadata": {},
   "source": [
    "## Conclusiones:\n",
    "* el modelo es malo\n",
    "* R2 muy bajo\n",
    "* los intervalos de confianzan tocan el 0\n",
    "* p-values muy altos"
   ]
  },
  {
   "cell_type": "code",
   "execution_count": 20,
   "metadata": {},
   "outputs": [
    {
     "data": {
      "text/html": [
       "<table class=\"simpletable\">\n",
       "<tr>\n",
       "        <td>Model:</td>              <td>Logit</td>      <td>Pseudo R-squared:</td>  <td>0.144</td> \n",
       "</tr>\n",
       "<tr>\n",
       "  <td>Dependent Variable:</td>         <td>y</td>              <td>AIC:</td>        <td>15.5238</td>\n",
       "</tr>\n",
       "<tr>\n",
       "         <td>Date:</td>        <td>2020-09-23 15:28</td>       <td>BIC:</td>        <td>16.1290</td>\n",
       "</tr>\n",
       "<tr>\n",
       "   <td>No. Observations:</td>         <td>10</td>         <td>Log-Likelihood:</td>  <td>-5.7619</td>\n",
       "</tr>\n",
       "<tr>\n",
       "       <td>Df Model:</td>              <td>1</td>            <td>LL-Null:</td>      <td>-6.7301</td>\n",
       "</tr>\n",
       "<tr>\n",
       "     <td>Df Residuals:</td>            <td>8</td>          <td>LLR p-value:</td>    <td>0.16406</td>\n",
       "</tr>\n",
       "<tr>\n",
       "      <td>Converged:</td>           <td>1.0000</td>           <td>Scale:</td>       <td>1.0000</td> \n",
       "</tr>\n",
       "<tr>\n",
       "    <td>No. Iterations:</td>        <td>5.0000</td>              <td></td>             <td></td>    \n",
       "</tr>\n",
       "</table>\n",
       "<table class=\"simpletable\">\n",
       "<tr>\n",
       "    <td></td>     <th>Coef.</th>  <th>Std.Err.</th>    <th>z</th>     <th>P>|z|</th> <th>[0.025</th>  <th>0.975]</th>\n",
       "</tr>\n",
       "<tr>\n",
       "  <th>const</th> <td>-2.0537</td>  <td>1.5494</td>  <td>-1.3255</td> <td>0.1850</td> <td>-5.0905</td> <td>0.9831</td>\n",
       "</tr>\n",
       "<tr>\n",
       "  <th>x1</th>    <td>0.3454</td>   <td>0.2739</td>  <td>1.2611</td>  <td>0.2073</td> <td>-0.1914</td> <td>0.8822</td>\n",
       "</tr>\n",
       "</table>"
      ],
      "text/plain": [
       "<class 'statsmodels.iolib.summary2.Summary'>\n",
       "\"\"\"\n",
       "                        Results: Logit\n",
       "==============================================================\n",
       "Model:              Logit            Pseudo R-squared: 0.144  \n",
       "Dependent Variable: y                AIC:              15.5238\n",
       "Date:               2020-09-23 15:28 BIC:              16.1290\n",
       "No. Observations:   10               Log-Likelihood:   -5.7619\n",
       "Df Model:           1                LL-Null:          -6.7301\n",
       "Df Residuals:       8                LLR p-value:      0.16406\n",
       "Converged:          1.0000           Scale:            1.0000 \n",
       "No. Iterations:     5.0000                                    \n",
       "----------------------------------------------------------------\n",
       "         Coef.    Std.Err.      z      P>|z|     [0.025   0.975]\n",
       "----------------------------------------------------------------\n",
       "const   -2.0537     1.5494   -1.3255   0.1850   -5.0905   0.9831\n",
       "x1       0.3454     0.2739    1.2611   0.2073   -0.1914   0.8822\n",
       "==============================================================\n",
       "\n",
       "\"\"\""
      ]
     },
     "execution_count": 20,
     "metadata": {},
     "output_type": "execute_result"
    }
   ],
   "source": [
    "logit_model.summary2()"
   ]
  },
  {
   "cell_type": "code",
   "execution_count": 21,
   "metadata": {},
   "outputs": [],
   "source": [
    "import statsmodels.formula.api as smf\n",
    "n = 10\n",
    "x1 = np.array(range(n))\n",
    "y = [0,0,0,1,0,1,0,1,0,1]"
   ]
  },
  {
   "cell_type": "code",
   "execution_count": 22,
   "metadata": {},
   "outputs": [],
   "source": [
    "df = pd.DataFrame()\n",
    "df[\"x\"] = x1\n",
    "df['y'] = y"
   ]
  },
  {
   "cell_type": "code",
   "execution_count": 23,
   "metadata": {},
   "outputs": [],
   "source": [
    "modelo = smf.ols(formula='y~x', data = df).fit()"
   ]
  },
  {
   "cell_type": "code",
   "execution_count": 24,
   "metadata": {},
   "outputs": [
    {
     "data": {
      "text/html": [
       "<table class=\"simpletable\">\n",
       "<tr>\n",
       "        <td>Model:</td>               <td>OLS</td>         <td>Adj. R-squared:</td>    <td>0.080</td> \n",
       "</tr>\n",
       "<tr>\n",
       "  <td>Dependent Variable:</td>         <td>y</td>               <td>AIC:</td>         <td>16.1009</td>\n",
       "</tr>\n",
       "<tr>\n",
       "         <td>Date:</td>        <td>2020-09-23 15:28</td>        <td>BIC:</td>         <td>16.7061</td>\n",
       "</tr>\n",
       "<tr>\n",
       "   <td>No. Observations:</td>         <td>10</td>          <td>Log-Likelihood:</td>   <td>-6.0505</td>\n",
       "</tr>\n",
       "<tr>\n",
       "       <td>Df Model:</td>              <td>1</td>           <td>F-statistic:</td>      <td>1.778</td> \n",
       "</tr>\n",
       "<tr>\n",
       "     <td>Df Residuals:</td>            <td>8</td>        <td>Prob (F-statistic):</td>  <td>0.219</td> \n",
       "</tr>\n",
       "<tr>\n",
       "      <td>R-squared:</td>            <td>0.182</td>            <td>Scale:</td>        <td>0.24545</td>\n",
       "</tr>\n",
       "</table>\n",
       "<table class=\"simpletable\">\n",
       "<tr>\n",
       "      <td></td>       <th>Coef.</th> <th>Std.Err.</th>    <th>t</th>    <th>P>|t|</th> <th>[0.025</th>  <th>0.975]</th>\n",
       "</tr>\n",
       "<tr>\n",
       "  <th>Intercept</th> <td>0.0727</td>  <td>0.2912</td>  <td>0.2498</td> <td>0.8091</td> <td>-0.5988</td> <td>0.7442</td>\n",
       "</tr>\n",
       "<tr>\n",
       "  <th>x</th>         <td>0.0727</td>  <td>0.0545</td>  <td>1.3333</td> <td>0.2191</td> <td>-0.0531</td> <td>0.1985</td>\n",
       "</tr>\n",
       "</table>\n",
       "<table class=\"simpletable\">\n",
       "<tr>\n",
       "     <td>Omnibus:</td>    <td>1.375</td>  <td>Durbin-Watson:</td>   <td>3.515</td>\n",
       "</tr>\n",
       "<tr>\n",
       "  <td>Prob(Omnibus):</td> <td>0.503</td> <td>Jarque-Bera (JB):</td> <td>0.742</td>\n",
       "</tr>\n",
       "<tr>\n",
       "       <td>Skew:</td>     <td>0.178</td>     <td>Prob(JB):</td>     <td>0.690</td>\n",
       "</tr>\n",
       "<tr>\n",
       "     <td>Kurtosis:</td>   <td>1.714</td>  <td>Condition No.:</td>    <td>10</td>  \n",
       "</tr>\n",
       "</table>"
      ],
      "text/plain": [
       "<class 'statsmodels.iolib.summary2.Summary'>\n",
       "\"\"\"\n",
       "                Results: Ordinary least squares\n",
       "================================================================\n",
       "Model:              OLS              Adj. R-squared:     0.080  \n",
       "Dependent Variable: y                AIC:                16.1009\n",
       "Date:               2020-09-23 15:28 BIC:                16.7061\n",
       "No. Observations:   10               Log-Likelihood:     -6.0505\n",
       "Df Model:           1                F-statistic:        1.778  \n",
       "Df Residuals:       8                Prob (F-statistic): 0.219  \n",
       "R-squared:          0.182            Scale:              0.24545\n",
       "------------------------------------------------------------------\n",
       "            Coef.    Std.Err.     t      P>|t|     [0.025   0.975]\n",
       "------------------------------------------------------------------\n",
       "Intercept   0.0727     0.2912   0.2498   0.8091   -0.5988   0.7442\n",
       "x           0.0727     0.0545   1.3333   0.2191   -0.0531   0.1985\n",
       "----------------------------------------------------------------\n",
       "Omnibus:               1.375       Durbin-Watson:          3.515\n",
       "Prob(Omnibus):         0.503       Jarque-Bera (JB):       0.742\n",
       "Skew:                  0.178       Prob(JB):               0.690\n",
       "Kurtosis:              1.714       Condition No.:          10   \n",
       "================================================================\n",
       "\n",
       "\"\"\""
      ]
     },
     "execution_count": 24,
     "metadata": {},
     "output_type": "execute_result"
    }
   ],
   "source": [
    "modelo.summary2()"
   ]
  }
 ],
 "metadata": {
  "kernelspec": {
   "display_name": "Python 3",
   "language": "python",
   "name": "python3"
  },
  "language_info": {
   "codemirror_mode": {
    "name": "ipython",
    "version": 3
   },
   "file_extension": ".py",
   "mimetype": "text/x-python",
   "name": "python",
   "nbconvert_exporter": "python",
   "pygments_lexer": "ipython3",
   "version": "3.8.3"
  }
 },
 "nbformat": 4,
 "nbformat_minor": 4
}
